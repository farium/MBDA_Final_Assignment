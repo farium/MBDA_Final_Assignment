{
 "cells": [
  {
   "cell_type": "code",
   "execution_count": 1,
   "metadata": {},
   "outputs": [
    {
     "data": {
      "text/plain": [
       "<Logger EMA (DEBUG)>"
      ]
     },
     "execution_count": 1,
     "metadata": {},
     "output_type": "execute_result"
    }
   ],
   "source": [
    "#In this cell all libraries used in the notebook are loaded\n",
    "import numpy as np\n",
    "import scipy as sp\n",
    "import pandas as pd\n",
    "import matplotlib.pyplot as plt\n",
    "import seaborn as sns\n",
    "import networkx as nx\n",
    "import timeit\n",
    "\n",
    "from ema_workbench import (Model, CategoricalParameter, SequentialEvaluator, MultiprocessingEvaluator, Policy, Scenario, perform_experiments,\n",
    "                           ScalarOutcome, IntegerParameter, RealParameter, save_results, load_results)\n",
    "from ema_workbench.em_framework.evaluators import perform_experiments\n",
    "from ema_workbench.em_framework.samplers import sample_uncertainties\n",
    "from ema_workbench.util import ema_logging\n",
    "from problem_formulation import get_model_for_problem_formulation\n",
    "import copy\n",
    "\n",
    "ema_logging.log_to_stderr(ema_logging.INFO)"
   ]
  },
  {
   "cell_type": "code",
   "execution_count": 2,
   "metadata": {},
   "outputs": [],
   "source": [
    "#Here the problem formulation created by group 22 is called as the dike model, and uncertainties and levers are connected to the Workbench\n",
    "dike_model, planning_steps = get_model_for_problem_formulation(6)\n",
    "uncertainties = dike_model.uncertainties\n",
    "levers = dike_model.levers"
   ]
  },
  {
   "cell_type": "code",
   "execution_count": 3,
   "metadata": {},
   "outputs": [],
   "source": [
    "#This creates a policy with the best policy from PG.3 and 2 days EWS\n",
    "final_policy = Policy('final_policy', **{'0_RfR 0':1,\n",
    "                                      '0_RfR 1':1,\n",
    "                                      '0_RfR 2':1,\n",
    "                                      '1_RfR 0':0,\n",
    "                                      '1_RfR 1':0,\n",
    "                                      '1_RfR 2':0,\n",
    "                                      '2_RfR 0':1,\n",
    "                                      '2_RfR 1':1,\n",
    "                                      '2_RfR 2':1, \n",
    "                                      '3_RfR 0':1, \n",
    "                                      '3_RfR 1':1, \n",
    "                                      '3_RfR 2':1, \n",
    "                                      '4_RfR 0':0,\n",
    "                                      '4_RfR 1':0, \n",
    "                                      '4_RfR 2':0, \n",
    "                                      'EWS_DaysToThreat':2,\n",
    "                                      'A.1_DikeIncrease 0':4, \n",
    "                                      'A.1_DikeIncrease 1':4, \n",
    "                                      'A.1_DikeIncrease 2':4,\n",
    "                                      'A.2_DikeIncrease 0':6,\n",
    "                                      'A.2_DikeIncrease 1':6,\n",
    "                                      'A.2_DikeIncrease 2':6,\n",
    "                                      'A.3_DikeIncrease 0':6,\n",
    "                                      'A.3_DikeIncrease 1':6,\n",
    "                                      'A.3_DikeIncrease 2':6,\n",
    "                                      'A.4_DikeIncrease 0':3,\n",
    "                                      'A.4_DikeIncrease 1':3,\n",
    "                                      'A.4_DikeIncrease 2':3,\n",
    "                                      'A.5_DikeIncrease 0':5,\n",
    "                                      'A.5_DikeIncrease 1':5,\n",
    "                                      'A.5_DikeIncrease 2':5})"
   ]
  },
  {
   "cell_type": "code",
   "execution_count": 8,
   "metadata": {},
   "outputs": [
    {
     "name": "stderr",
     "output_type": "stream",
     "text": [
      "[MainProcess/INFO] pool started\n",
      "[MainProcess/INFO] performing 10000 scenarios * 1 policies * 1 model(s) = 10000 experiments\n",
      "[MainProcess/INFO] 1000 cases completed\n",
      "[MainProcess/INFO] 2000 cases completed\n",
      "[MainProcess/INFO] 3000 cases completed\n",
      "[MainProcess/INFO] 4000 cases completed\n",
      "[MainProcess/INFO] 5000 cases completed\n",
      "[MainProcess/INFO] 6000 cases completed\n",
      "[MainProcess/INFO] 7000 cases completed\n",
      "[MainProcess/INFO] 8000 cases completed\n",
      "[MainProcess/INFO] 9000 cases completed\n",
      "[MainProcess/INFO] 10000 cases completed\n",
      "[MainProcess/INFO] experiments finished\n",
      "[MainProcess/INFO] terminating pool\n"
     ]
    }
   ],
   "source": [
    "tic=timeit.default_timer()\n",
    "with MultiprocessingEvaluator(dike_model) as evaluator:\n",
    "    results = evaluator.perform_experiments(scenarios=10000, policies=final_policy)\n",
    "toc=timeit.default_timer()"
   ]
  },
  {
   "cell_type": "code",
   "execution_count": 9,
   "metadata": {},
   "outputs": [
    {
     "name": "stderr",
     "output_type": "stream",
     "text": [
      "[MainProcess/INFO] results saved successfully to C:\\Users\\wsgru\\Documents\\Studie\\Industrial Ecology\\IE Year 1\\Q4\\Model-based Decision-making\\epa1361_open-master2\\epa1361_open-master\\final assignment\\final_policy.tar.gz\n"
     ]
    },
    {
     "name": "stdout",
     "output_type": "stream",
     "text": [
      "Multiprocessing time in seconds: 7712.6524169\n"
     ]
    }
   ],
   "source": [
    "save_results(results, 'final_policy.tar.gz')\n",
    "print('Multiprocessing time in seconds:', toc-tic)\n",
    "experiments, outcomes = results\n",
    "data = pd.DataFrame(outcomes)\n",
    "deaths = pd.DataFrame(outcomes, columns = ['A.1_Expected Number of Deaths', 'A.2_Expected Number of Deaths', 'A.3_Expected Number of Deaths',\n",
    "                                         'A.4_Expected Number of Deaths', 'A.5_Expected Number of Deaths'])"
   ]
  },
  {
   "cell_type": "code",
   "execution_count": 21,
   "metadata": {},
   "outputs": [
    {
     "name": "stderr",
     "output_type": "stream",
     "text": [
      "C:\\Programs\\Anaconda3\\lib\\site-packages\\scipy\\stats\\stats.py:1713: FutureWarning: Using a non-tuple sequence for multidimensional indexing is deprecated; use `arr[tuple(seq)]` instead of `arr[seq]`. In the future this will be interpreted as an array index, `arr[np.array(seq)]`, which will result either in an error or a different result.\n",
      "  return np.add.reduce(sorted[indexer] * weights, axis=axis) / sumval\n"
     ]
    },
    {
     "data": {
      "image/png": "[encoded data removed]",
      "text/plain": [
       "<Figure size 1152x576 with 1 Axes>"
      ]
     },
     "metadata": {},
     "output_type": "display_data"
    }
   ],
   "source": [
    "fig, ax = plt.subplots(figsize=(16,8))\n",
    "sns.violinplot(data=deaths, scale='width');"
   ]
  },
  {
   "cell_type": "code",
   "execution_count": 115,
   "metadata": {},
   "outputs": [
    {
     "name": "stdout",
     "output_type": "stream",
     "text": [
      "The maximum regret for location A.1 is: 0.07245742725491144\n",
      "The maximum regret for location A.2 is: 0.03295987035146965\n",
      "The maximum regret for location A.3 is: 0.13555291193754473\n",
      "The maximum regret for location A.4 is: 0.005207458063090061\n",
      "The maximum regret for location A.5 is: 0.012503479754275295\n"
     ]
    }
   ],
   "source": [
    "for i in range(1,6):\n",
    "    print('The maximum regret for location A.{} is:'.format(i), outcomes['A.{}_Expected Number of Deaths'.format(i)].max())"
   ]
  },
  {
   "cell_type": "code",
   "execution_count": 130,
   "metadata": {},
   "outputs": [
    {
     "name": "stdout",
     "output_type": "stream",
     "text": [
      "Fraction of scenarios with no deaths at all: 0.6563\n"
     ]
    }
   ],
   "source": [
    "y = []\n",
    "for i in range(10000):\n",
    "    if outcomes['A.1_Expected Number of Deaths'][i]== 0.0 and outcomes['A.2_Expected Number of Deaths'][i]== 0.0 and outcomes['A.3_Expected Number of Deaths'][i]== 0.0 and outcomes['A.4_Expected Number of Deaths'][i]== 0.0 and outcomes['A.5_Expected Number of Deaths'][i]== 0.0:\n",
    "        y.append(True)\n",
    "    else:\n",
    "        y.append(False)\n",
    "y = np.array(y)\n",
    "print('Fraction of scenarios with no deaths at all:', sum(y)/len(outcomes['A.1_Expected Number of Deaths']))"
   ]
  },
  {
   "cell_type": "code",
   "execution_count": 11,
   "metadata": {},
   "outputs": [
    {
     "name": "stderr",
     "output_type": "stream",
     "text": [
      "C:\\Programs\\Anaconda3\\lib\\site-packages\\scipy\\stats\\stats.py:1713: FutureWarning: Using a non-tuple sequence for multidimensional indexing is deprecated; use `arr[tuple(seq)]` instead of `arr[seq]`. In the future this will be interpreted as an array index, `arr[np.array(seq)]`, which will result either in an error or a different result.\n",
      "  return np.add.reduce(sorted[indexer] * weights, axis=axis) / sumval\n"
     ]
    },
    {
     "data": {
      "image/png": "[encoded data removed]",
      "text/plain": [
       "<Figure size 432x288 with 1 Axes>"
      ]
     },
     "metadata": {},
     "output_type": "display_data"
    }
   ],
   "source": [
    "sns.violinplot(data=data, y='Expected Annual Damage', color='gold');"
   ]
  },
  {
   "cell_type": "code",
   "execution_count": 111,
   "metadata": {},
   "outputs": [
    {
     "name": "stdout",
     "output_type": "stream",
     "text": [
      "Fraction of solutions with more than 1e8 damage: 0.0007\n",
      "Maximum regret damage: 779362564.12052\n"
     ]
    }
   ],
   "source": [
    "damage = outcomes['Expected Annual Damage'] > 1e8\n",
    "print('Fraction of solutions with more than 1e8 damage:',  sum(damage)/10000)\n",
    "print('Maximum regret damage:', outcomes['Expected Annual Damage'].max())"
   ]
  },
  {
   "cell_type": "code",
   "execution_count": 114,
   "metadata": {},
   "outputs": [
    {
     "name": "stdout",
     "output_type": "stream",
     "text": [
      "The total costs are: 1396724895.3456867\n"
     ]
    }
   ],
   "source": [
    "print('The total costs are:', outcomes['RfR Investment Costs'][0]+outcomes['Dike Investment Costs'][0]+outcomes['Evacuation Costs'].max())"
   ]
  }
 ],
 "metadata": {
  "kernelspec": {
   "display_name": "Python 3",
   "language": "python",
   "name": "python3"
  },
  "language_info": {
   "codemirror_mode": {
    "name": "ipython",
    "version": 3
   },
   "file_extension": ".py",
   "mimetype": "text/x-python",
   "name": "python",
   "nbconvert_exporter": "python",
   "pygments_lexer": "ipython3",
   "version": "3.6.6"
  },
  "latex_envs": {
   "LaTeX_envs_menu_present": true,
   "autoclose": false,
   "autocomplete": true,
   "bibliofile": "biblio.bib",
   "cite_by": "apalike",
   "current_citInitial": 1,
   "eqLabelWithNumbers": true,
   "eqNumInitial": 1,
   "hotkeys": {
    "equation": "Ctrl-E",
    "itemize": "Ctrl-I"
   },
   "labels_anchors": false,
   "latex_user_defs": false,
   "report_style_numbering": false,
   "user_envs_cfg": false
  }
 },
 "nbformat": 4,
 "nbformat_minor": 2
}
