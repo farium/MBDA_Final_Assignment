{
 "cells": [
  {
   "cell_type": "code",
   "execution_count": 1,
   "metadata": {},
   "outputs": [
    {
     "data": {
      "text/plain": [
       "<Logger EMA (DEBUG)>"
      ]
     },
     "execution_count": 1,
     "metadata": {},
     "output_type": "execute_result"
    }
   ],
   "source": [
    "import numpy as np\n",
    "import scipy as sp\n",
    "import pandas as pd\n",
    "import matplotlib.pyplot as plt\n",
    "import seaborn as sns\n",
    "import networkx as nx\n",
    "import timeit\n",
    "\n",
    "from ema_workbench import (Model, CategoricalParameter, SequentialEvaluator, MultiprocessingEvaluator, Policy, Scenario, perform_experiments,\n",
    "                           ScalarOutcome, IntegerParameter, RealParameter)\n",
    "from ema_workbench.em_framework.evaluators import perform_experiments\n",
    "from ema_workbench.em_framework.samplers import sample_uncertainties\n",
    "from ema_workbench.util import ema_logging\n",
    "from problem_formulation import get_model_for_problem_formulation\n",
    "import copy\n",
    "\n",
    "ema_logging.log_to_stderr(ema_logging.INFO)"
   ]
  },
  {
   "cell_type": "code",
   "execution_count": 2,
   "metadata": {},
   "outputs": [],
   "source": [
    "dike_model, planning_steps = get_model_for_problem_formulation(6)\n",
    "uncertainties = dike_model.uncertainties\n",
    "\n",
    "uncertainties = copy.deepcopy(dike_model.uncertainties)\n",
    "levers = dike_model.levers\n",
    "levers = copy.deepcopy(dike_model.levers)"
   ]
  },
  {
   "cell_type": "code",
   "execution_count": 3,
   "metadata": {
    "scrolled": true
   },
   "outputs": [
    {
     "name": "stderr",
     "output_type": "stream",
     "text": [
      "[MainProcess/INFO] performing 100 scenarios * 1 policies * 1 model(s) = 100 experiments\n",
      "[MainProcess/INFO] performing experiments sequentially\n",
      "[MainProcess/INFO] 10 cases completed\n",
      "[MainProcess/INFO] 20 cases completed\n",
      "[MainProcess/INFO] 30 cases completed\n",
      "[MainProcess/INFO] 40 cases completed\n",
      "[MainProcess/INFO] 50 cases completed\n",
      "[MainProcess/INFO] 60 cases completed\n",
      "[MainProcess/INFO] 70 cases completed\n",
      "[MainProcess/INFO] 80 cases completed\n",
      "[MainProcess/INFO] 90 cases completed\n",
      "[MainProcess/INFO] 100 cases completed\n",
      "[MainProcess/INFO] experiments finished\n"
     ]
    }
   ],
   "source": [
    "tic1=timeit.default_timer()\n",
    "with SequentialEvaluator(dike_model) as evaluator:\n",
    "    results = evaluator.perform_experiments(scenarios=100, policies=1)\n",
    "toc1=timeit.default_timer()"
   ]
  },
  {
   "cell_type": "code",
   "execution_count": 5,
   "metadata": {},
   "outputs": [
    {
     "data": {
      "text/plain": [
       "{'A.1_Expected Number of Deaths': array([0., 0., 0., 0., 0., 0., 0., 0., 0., 0., 0., 0., 0., 0., 0., 0., 0.,\n",
       "        0., 0., 0., 0., 0., 0., 0., 0., 0., 0., 0., 0., 0., 0., 0., 0., 0.,\n",
       "        0., 0., 0., 0., 0., 0., 0., 0., 0., 0., 0., 0., 0., 0., 0., 0., 0.,\n",
       "        0., 0., 0., 0., 0., 0., 0., 0., 0., 0., 0., 0., 0., 0., 0., 0., 0.,\n",
       "        0., 0., 0., 0., 0., 0., 0., 0., 0., 0., 0., 0., 0., 0., 0., 0., 0.,\n",
       "        0., 0., 0., 0., 0., 0., 0., 0., 0., 0., 0., 0., 0., 0., 0.]),\n",
       " 'A.2_Expected Number of Deaths': array([0.        , 0.        , 0.01212155, 0.        , 0.05827459,\n",
       "        0.        , 0.00182381, 0.        , 0.        , 0.00252436,\n",
       "        0.00050622, 0.        , 0.00249664, 0.        , 0.004162  ,\n",
       "        0.        , 0.00428775, 0.        , 0.09423436, 0.        ,\n",
       "        0.        , 0.00048649, 0.00050652, 0.        , 0.        ,\n",
       "        0.00184838, 0.        , 0.03520103, 0.00304513, 0.        ,\n",
       "        0.        , 0.0225583 , 0.00811144, 0.00050633, 0.01987111,\n",
       "        0.        , 0.        , 0.        , 0.00805562, 0.0348271 ,\n",
       "        0.00305451, 0.00183137, 0.00113752, 0.07496387, 0.04413124,\n",
       "        0.        , 0.        , 0.00050622, 0.        , 0.        ,\n",
       "        0.00611212, 0.00183909, 0.        , 0.01747048, 0.00049369,\n",
       "        0.00181734, 0.02951795, 0.00310956, 0.00789545, 0.        ,\n",
       "        0.        , 0.00310047, 0.00117224, 0.        , 0.        ,\n",
       "        0.01203543, 0.0121477 , 0.00536851, 0.        , 0.00050361,\n",
       "        0.0053349 , 0.08913762, 0.00049503, 0.00249951, 0.00050102,\n",
       "        0.00310022, 0.        , 0.00182971, 0.        , 0.00250169,\n",
       "        0.0004979 , 0.        , 0.02244665, 0.00184955, 0.00427141,\n",
       "        0.00414958, 0.        , 0.        , 0.00050543, 0.        ,\n",
       "        0.0011602 , 0.00185131, 0.        , 0.00117448, 0.01241398,\n",
       "        0.00117476, 0.        , 0.00522701, 0.01216303, 0.        ]),\n",
       " 'A.3_Expected Number of Deaths': array([0.        , 0.        , 0.        , 0.        , 0.        ,\n",
       "        0.01099016, 0.        , 0.        , 0.        , 0.        ,\n",
       "        0.        , 0.        , 0.00240292, 0.        , 0.        ,\n",
       "        0.        , 0.        , 0.        , 0.        , 0.        ,\n",
       "        0.        , 0.        , 0.01539533, 0.00174567, 0.        ,\n",
       "        0.        , 0.        , 0.        , 0.        , 0.        ,\n",
       "        0.        , 0.        , 0.        , 0.07830512, 0.        ,\n",
       "        0.0017587 , 0.        , 0.        , 0.        , 0.        ,\n",
       "        0.        , 0.        , 0.        , 0.        , 0.        ,\n",
       "        0.        , 0.        , 0.00659653, 0.        , 0.        ,\n",
       "        0.        , 0.        , 0.        , 0.        , 0.        ,\n",
       "        0.        , 0.        , 0.01498939, 0.        , 0.01404834,\n",
       "        0.05721191, 0.        , 0.01103682, 0.        , 0.        ,\n",
       "        0.        , 0.        , 0.        , 0.        , 0.        ,\n",
       "        0.        , 0.        , 0.        , 0.        , 0.        ,\n",
       "        0.        , 0.        , 0.        , 0.        , 0.        ,\n",
       "        0.01488942, 0.36056235, 0.        , 0.        , 0.        ,\n",
       "        0.        , 0.00175964, 0.00887506, 0.        , 0.        ,\n",
       "        0.        , 0.02435847, 0.        , 0.        , 0.        ,\n",
       "        0.        , 0.00173156, 0.        , 0.        , 0.        ]),\n",
       " 'A.4_Expected Number of Deaths': array([0., 0., 0., 0., 0., 0., 0., 0., 0., 0., 0., 0., 0., 0., 0., 0., 0.,\n",
       "        0., 0., 0., 0., 0., 0., 0., 0., 0., 0., 0., 0., 0., 0., 0., 0., 0.,\n",
       "        0., 0., 0., 0., 0., 0., 0., 0., 0., 0., 0., 0., 0., 0., 0., 0., 0.,\n",
       "        0., 0., 0., 0., 0., 0., 0., 0., 0., 0., 0., 0., 0., 0., 0., 0., 0.,\n",
       "        0., 0., 0., 0., 0., 0., 0., 0., 0., 0., 0., 0., 0., 0., 0., 0., 0.,\n",
       "        0., 0., 0., 0., 0., 0., 0., 0., 0., 0., 0., 0., 0., 0., 0.]),\n",
       " 'A.5_Expected Number of Deaths': array([0., 0., 0., 0., 0., 0., 0., 0., 0., 0., 0., 0., 0., 0., 0., 0., 0.,\n",
       "        0., 0., 0., 0., 0., 0., 0., 0., 0., 0., 0., 0., 0., 0., 0., 0., 0.,\n",
       "        0., 0., 0., 0., 0., 0., 0., 0., 0., 0., 0., 0., 0., 0., 0., 0., 0.,\n",
       "        0., 0., 0., 0., 0., 0., 0., 0., 0., 0., 0., 0., 0., 0., 0., 0., 0.,\n",
       "        0., 0., 0., 0., 0., 0., 0., 0., 0., 0., 0., 0., 0., 0., 0., 0., 0.,\n",
       "        0., 0., 0., 0., 0., 0., 0., 0., 0., 0., 0., 0., 0., 0., 0.]),\n",
       " 'Expected Annual Damage': array([0.00000000e+00, 0.00000000e+00, 2.52236873e+07, 0.00000000e+00,\n",
       "        1.29812546e+08, 2.31338683e+07, 5.53380008e+06, 0.00000000e+00,\n",
       "        0.00000000e+00, 6.09148363e+06, 1.49976191e+06, 0.00000000e+00,\n",
       "        1.49060643e+07, 0.00000000e+00, 8.46068133e+06, 0.00000000e+00,\n",
       "        8.60055405e+06, 0.00000000e+00, 4.13930178e+08, 0.00000000e+00,\n",
       "        0.00000000e+00, 9.59841328e+05, 2.65034840e+07, 2.23082276e+06,\n",
       "        0.00000000e+00, 3.63899160e+06, 0.00000000e+00, 7.58647999e+07,\n",
       "        9.36686737e+06, 0.00000000e+00, 0.00000000e+00, 4.78553563e+07,\n",
       "        2.53343569e+07, 1.37527520e+08, 5.10750656e+07, 2.81167284e+06,\n",
       "        0.00000000e+00, 0.00000000e+00, 1.64774830e+07, 1.15318967e+08,\n",
       "        7.47367730e+06, 7.19234009e+06, 2.76103448e+06, 3.34741052e+08,\n",
       "        9.64060233e+07, 0.00000000e+00, 0.00000000e+00, 1.20863111e+07,\n",
       "        0.00000000e+00, 0.00000000e+00, 1.52472065e+07, 3.62969675e+06,\n",
       "        0.00000000e+00, 5.58225879e+07, 1.92030899e+06, 3.60794353e+06,\n",
       "        7.73579700e+07, 2.71227301e+07, 1.62671657e+07, 1.87323912e+07,\n",
       "        1.29201326e+08, 1.22587132e+07, 2.14107791e+07, 0.00000000e+00,\n",
       "        0.00000000e+00, 4.98493476e+07, 2.52602049e+07, 1.65752634e+07,\n",
       "        0.00000000e+00, 1.19162324e+06, 1.31592499e+07, 3.09399229e+08,\n",
       "        1.18115791e+06, 6.06115941e+06, 1.49180107e+06, 7.52944939e+06,\n",
       "        0.00000000e+00, 3.62031160e+06, 0.00000000e+00, 7.61152851e+06,\n",
       "        2.06613808e+07, 8.28538014e+08, 5.81740457e+07, 5.57321920e+06,\n",
       "        1.31427451e+07, 1.29307111e+07, 2.81249808e+06, 1.43828558e+07,\n",
       "        9.78785870e+05, 0.00000000e+00, 4.54011745e+06, 5.97728792e+07,\n",
       "        0.00000000e+00, 3.52236154e+06, 3.92336119e+07, 2.30090948e+06,\n",
       "        3.61577695e+06, 1.29999568e+07, 3.08365114e+07, 0.00000000e+00]),\n",
       " 'Dike Investment Costs': array([6.85593236e+08, 6.85593236e+08, 6.85593236e+08, 6.85593236e+08,\n",
       "        6.85593236e+08, 6.85593236e+08, 6.85593236e+08, 6.85593236e+08,\n",
       "        6.85593236e+08, 6.85593236e+08, 6.85593236e+08, 6.85593236e+08,\n",
       "        6.85593236e+08, 6.85593236e+08, 6.85593236e+08, 6.85593236e+08,\n",
       "        6.85593236e+08, 6.85593236e+08, 6.85593236e+08, 6.85593236e+08,\n",
       "        6.85593236e+08, 6.85593236e+08, 6.85593236e+08, 6.85593236e+08,\n",
       "        6.85593236e+08, 6.85593236e+08, 6.85593236e+08, 6.85593236e+08,\n",
       "        6.85593236e+08, 6.85593236e+08, 6.85593236e+08, 6.85593236e+08,\n",
       "        6.85593236e+08, 6.85593236e+08, 6.85593236e+08, 6.85593236e+08,\n",
       "        6.85593236e+08, 6.85593236e+08, 6.85593236e+08, 6.85593236e+08,\n",
       "        6.85593236e+08, 6.85593236e+08, 6.85593236e+08, 6.85593236e+08,\n",
       "        6.85593236e+08, 6.85593236e+08, 6.85593236e+08, 6.85593236e+08,\n",
       "        6.85593236e+08, 6.85593236e+08, 6.85593236e+08, 6.85593236e+08,\n",
       "        6.85593236e+08, 6.85593236e+08, 6.85593236e+08, 6.85593236e+08,\n",
       "        6.85593236e+08, 6.85593236e+08, 6.85593236e+08, 6.85593236e+08,\n",
       "        6.85593236e+08, 6.85593236e+08, 6.85593236e+08, 6.85593236e+08,\n",
       "        6.85593236e+08, 6.85593236e+08, 6.85593236e+08, 6.85593236e+08,\n",
       "        6.85593236e+08, 6.85593236e+08, 6.85593236e+08, 6.85593236e+08,\n",
       "        6.85593236e+08, 6.85593236e+08, 6.85593236e+08, 6.85593236e+08,\n",
       "        6.85593236e+08, 6.85593236e+08, 6.85593236e+08, 6.85593236e+08,\n",
       "        6.85593236e+08, 6.85593236e+08, 6.85593236e+08, 6.85593236e+08,\n",
       "        6.85593236e+08, 6.85593236e+08, 6.85593236e+08, 6.85593236e+08,\n",
       "        6.85593236e+08, 6.85593236e+08, 6.85593236e+08, 6.85593236e+08,\n",
       "        6.85593236e+08, 6.85593236e+08, 6.85593236e+08, 6.85593236e+08,\n",
       "        6.85593236e+08, 6.85593236e+08, 6.85593236e+08, 6.85593236e+08]),\n",
       " 'RfR Investment Costs': array([7.813e+08, 7.813e+08, 7.813e+08, 7.813e+08, 7.813e+08, 7.813e+08,\n",
       "        7.813e+08, 7.813e+08, 7.813e+08, 7.813e+08, 7.813e+08, 7.813e+08,\n",
       "        7.813e+08, 7.813e+08, 7.813e+08, 7.813e+08, 7.813e+08, 7.813e+08,\n",
       "        7.813e+08, 7.813e+08, 7.813e+08, 7.813e+08, 7.813e+08, 7.813e+08,\n",
       "        7.813e+08, 7.813e+08, 7.813e+08, 7.813e+08, 7.813e+08, 7.813e+08,\n",
       "        7.813e+08, 7.813e+08, 7.813e+08, 7.813e+08, 7.813e+08, 7.813e+08,\n",
       "        7.813e+08, 7.813e+08, 7.813e+08, 7.813e+08, 7.813e+08, 7.813e+08,\n",
       "        7.813e+08, 7.813e+08, 7.813e+08, 7.813e+08, 7.813e+08, 7.813e+08,\n",
       "        7.813e+08, 7.813e+08, 7.813e+08, 7.813e+08, 7.813e+08, 7.813e+08,\n",
       "        7.813e+08, 7.813e+08, 7.813e+08, 7.813e+08, 7.813e+08, 7.813e+08,\n",
       "        7.813e+08, 7.813e+08, 7.813e+08, 7.813e+08, 7.813e+08, 7.813e+08,\n",
       "        7.813e+08, 7.813e+08, 7.813e+08, 7.813e+08, 7.813e+08, 7.813e+08,\n",
       "        7.813e+08, 7.813e+08, 7.813e+08, 7.813e+08, 7.813e+08, 7.813e+08,\n",
       "        7.813e+08, 7.813e+08, 7.813e+08, 7.813e+08, 7.813e+08, 7.813e+08,\n",
       "        7.813e+08, 7.813e+08, 7.813e+08, 7.813e+08, 7.813e+08, 7.813e+08,\n",
       "        7.813e+08, 7.813e+08, 7.813e+08, 7.813e+08, 7.813e+08, 7.813e+08,\n",
       "        7.813e+08, 7.813e+08, 7.813e+08, 7.813e+08]),\n",
       " 'Evacuation Costs': array([    0.        ,     0.        ,  1011.55596931,     0.        ,\n",
       "         5400.36489434,   382.3821111 ,   142.14018937,     0.        ,\n",
       "            0.        ,   196.29833587,    38.24234008,     0.        ,\n",
       "          278.41567447,     0.        ,   335.43307557,     0.        ,\n",
       "          339.44743649,     0.        ,  8874.92431049,     0.        ,\n",
       "            0.        ,    37.69591796,   574.7776097 ,    59.14785865,\n",
       "            0.        ,   142.82095636,     0.        ,  3101.57257384,\n",
       "          241.58154174,     0.        ,     0.        ,  1939.64496145,\n",
       "          657.48049501,  3264.21315975,  1691.23330862,    59.18704695,\n",
       "            0.        ,     0.        ,   655.41215018,  3084.80847076,\n",
       "          241.8414408 ,   142.34975587,    89.13129652,  7047.02541392,\n",
       "         3969.82229379,     0.        ,     0.        ,   261.96786111,\n",
       "            0.        ,     0.        ,   497.03776622,   142.56354192,\n",
       "            0.        ,  1465.28683391,    37.8954146 ,   141.96110195,\n",
       "         2588.35144816,   777.7563019 ,   649.08724368,   528.26362908,\n",
       "         2369.45572073,   243.11466297,   472.81312284,     0.        ,\n",
       "            0.        ,  1007.88909134,  1012.67066578,   428.09032225,\n",
       "            0.        ,    38.17012238,   427.01609144,  8482.76707348,\n",
       "           37.93250243,   195.60981094,    38.09833973,   243.10777083,\n",
       "            0.        ,   142.30362672,     0.        ,   195.67018305,\n",
       "          571.49241279, 15555.08179988,  1934.70178868,   142.85322488,\n",
       "          338.99464413,   334.99320672,    59.18986848,   307.60191152,\n",
       "           38.22057371,     0.        ,    89.75961984,  1044.20530197,\n",
       "            0.        ,    90.15527597,  1023.77493913,    90.16285235,\n",
       "           59.10545906,   423.17284314,  1013.32445739,     0.        ])}"
      ]
     },
     "execution_count": 5,
     "metadata": {},
     "output_type": "execute_result"
    }
   ],
   "source": [
    "experiments, outcomes = results\n",
    "outcomes"
   ]
  },
  {
   "cell_type": "code",
   "execution_count": 4,
   "metadata": {},
   "outputs": [
    {
     "name": "stderr",
     "output_type": "stream",
     "text": [
      "[MainProcess/INFO] pool started\n",
      "[MainProcess/INFO] performing 100 scenarios * 1 policies * 1 model(s) = 100 experiments\n",
      "[MainProcess/INFO] 10 cases completed\n",
      "[MainProcess/INFO] 20 cases completed\n",
      "[MainProcess/INFO] 30 cases completed\n",
      "[MainProcess/INFO] 40 cases completed\n",
      "[MainProcess/INFO] 50 cases completed\n",
      "[MainProcess/INFO] 60 cases completed\n",
      "[MainProcess/INFO] 70 cases completed\n",
      "[MainProcess/INFO] 80 cases completed\n",
      "[MainProcess/INFO] 90 cases completed\n",
      "[MainProcess/INFO] 100 cases completed\n",
      "[MainProcess/INFO] experiments finished\n",
      "[MainProcess/INFO] terminating pool\n"
     ]
    }
   ],
   "source": [
    "tic2=timeit.default_timer()\n",
    "with MultiprocessingEvaluator(dike_model) as evaluator:\n",
    "    results2 = evaluator.perform_experiments(scenarios=100, policies=1)\n",
    "toc2=timeit.default_timer()"
   ]
  },
  {
   "cell_type": "code",
   "execution_count": 5,
   "metadata": {},
   "outputs": [
    {
     "name": "stdout",
     "output_type": "stream",
     "text": [
      "Sequential processing time in seconds: 195.97422790000002\n",
      "Multiprocessing time in seconds: 108.49512899999999\n"
     ]
    }
   ],
   "source": [
    "print('Sequential processing time in seconds:', toc1 - tic1)\n",
    "print('Multiprocessing time in seconds:', toc2-tic2)"
   ]
  },
  {
   "cell_type": "code",
   "execution_count": 10,
   "metadata": {},
   "outputs": [
    {
     "name": "stderr",
     "output_type": "stream",
     "text": [
      "C:\\Programs\\Anaconda3\\lib\\site-packages\\scipy\\stats\\stats.py:1713: FutureWarning: Using a non-tuple sequence for multidimensional indexing is deprecated; use `arr[tuple(seq)]` instead of `arr[seq]`. In the future this will be interpreted as an array index, `arr[np.array(seq)]`, which will result either in an error or a different result.\n",
      "  return np.add.reduce(sorted[indexer] * weights, axis=axis) / sumval\n"
     ]
    },
    {
     "data": {
      "image/png": "[encoded data removed]",
      "text/plain": [
       "<Figure size 432x288 with 1 Axes>"
      ]
     },
     "metadata": {},
     "output_type": "display_data"
    }
   ],
   "source": [
    "experiments, outcomes = results\n",
    "data = pd.DataFrame(outcomes)\n",
    "data['policy'] = results[0]['policy']\n",
    "sns.violinplot(data=data, y='A.1_Expected Number of Deaths')\n",
    "plt.show()"
   ]
  },
  {
   "cell_type": "code",
   "execution_count": null,
   "metadata": {},
   "outputs": [],
   "source": [
    "experiments, outcomes = results\n",
    "policies = experiments['policy']\n",
    "for i, policy in enumerate(np.unique(policies)):\n",
    "    experiments.loc[policies==policy, 'policy'] = str(i)\n",
    "\n",
    "data = pd.DataFrame(outcomes)\n",
    "data['policy'] = policies\n",
    "\n",
    "sns.pairplot(data, hue='policy', vars=list(outcomes.keys()))\n",
    "plt.show()"
   ]
  },
  {
   "cell_type": "code",
   "execution_count": 17,
   "metadata": {},
   "outputs": [],
   "source": [
    "policies = [Policy('zero policy 1', **{'0_RfR 0':0}),\n",
    "           Policy('zero policy 2', **{'A.1_DikeIncrease 0':0})]"
   ]
  },
  {
   "cell_type": "code",
   "execution_count": 18,
   "metadata": {},
   "outputs": [
    {
     "name": "stderr",
     "output_type": "stream",
     "text": [
      "[MainProcess/INFO] pool started\n",
      "[MainProcess/INFO] performing 100 scenarios * 2 policies * 1 model(s) = 200 experiments\n",
      "[MainProcess/INFO] 20 cases completed\n",
      "[MainProcess/INFO] 40 cases completed\n",
      "[MainProcess/INFO] 60 cases completed\n",
      "[MainProcess/INFO] 80 cases completed\n",
      "[MainProcess/INFO] 100 cases completed\n",
      "[MainProcess/INFO] 120 cases completed\n",
      "[MainProcess/INFO] 140 cases completed\n",
      "[MainProcess/INFO] 160 cases completed\n",
      "[MainProcess/INFO] 180 cases completed\n",
      "[MainProcess/INFO] 200 cases completed\n",
      "[MainProcess/INFO] experiments finished\n",
      "[MainProcess/INFO] terminating pool\n"
     ]
    }
   ],
   "source": [
    "tic3=timeit.default_timer()\n",
    "with MultiprocessingEvaluator(dike_model) as evaluator:\n",
    "    results3 = evaluator.perform_experiments(scenarios=100, policies=policies)\n",
    "toc3=timeit.default_timer()"
   ]
  },
  {
   "cell_type": "code",
   "execution_count": 44,
   "metadata": {},
   "outputs": [
    {
     "data": {
      "text/plain": [
       "24.0"
      ]
     },
     "execution_count": 44,
     "metadata": {},
     "output_type": "execute_result"
    }
   ],
   "source": [
    "experiments3, outcomes3 = results3\n",
    "experiments3['A.0_ID flood wave shape'][185]"
   ]
  },
  {
   "cell_type": "code",
   "execution_count": 27,
   "metadata": {},
   "outputs": [
    {
     "ename": "TypeError",
     "evalue": "unhashable type: 'slice'",
     "output_type": "error",
     "traceback": [
      "\u001b[1;31m---------------------------------------------------------------------------\u001b[0m",
      "\u001b[1;31mTypeError\u001b[0m                                 Traceback (most recent call last)",
      "\u001b[1;32m<ipython-input-27-67efb9fb9a4d>\u001b[0m in \u001b[0;36m<module>\u001b[1;34m()\u001b[0m\n\u001b[1;32m----> 1\u001b[1;33m \u001b[0mA\u001b[0m \u001b[1;33m=\u001b[0m \u001b[0moutcomes3\u001b[0m\u001b[1;33m[\u001b[0m\u001b[1;36m0\u001b[0m\u001b[1;33m:\u001b[0m\u001b[1;36m100\u001b[0m\u001b[1;33m]\u001b[0m\u001b[1;33m\u001b[0m\u001b[0m\n\u001b[0m\u001b[0;32m      2\u001b[0m \u001b[0mB\u001b[0m \u001b[1;33m=\u001b[0m \u001b[0moutcomes3\u001b[0m\u001b[1;33m[\u001b[0m\u001b[1;36m100\u001b[0m\u001b[1;33m:\u001b[0m\u001b[1;36m200\u001b[0m\u001b[1;33m]\u001b[0m\u001b[1;33m\u001b[0m\u001b[0m\n\u001b[0;32m      3\u001b[0m \u001b[0mdata\u001b[0m \u001b[1;33m=\u001b[0m \u001b[0mpd\u001b[0m\u001b[1;33m.\u001b[0m\u001b[0mDataFrame\u001b[0m\u001b[1;33m(\u001b[0m\u001b[0mA\u001b[0m\u001b[1;33m)\u001b[0m\u001b[1;33m\u001b[0m\u001b[0m\n\u001b[0;32m      4\u001b[0m \u001b[0mdata\u001b[0m\u001b[1;33m[\u001b[0m\u001b[1;34m'policy'\u001b[0m\u001b[1;33m]\u001b[0m \u001b[1;33m=\u001b[0m \u001b[0mexperiments3\u001b[0m\u001b[1;33m[\u001b[0m\u001b[1;34m'policy'\u001b[0m\u001b[1;33m]\u001b[0m\u001b[1;33m[\u001b[0m\u001b[1;36m0\u001b[0m\u001b[1;33m:\u001b[0m\u001b[1;36m100\u001b[0m\u001b[1;33m]\u001b[0m\u001b[1;33m\u001b[0m\u001b[0m\n\u001b[0;32m      5\u001b[0m \u001b[0msns\u001b[0m\u001b[1;33m.\u001b[0m\u001b[0mviolinplot\u001b[0m\u001b[1;33m(\u001b[0m\u001b[0mdata\u001b[0m\u001b[1;33m=\u001b[0m\u001b[0mdata\u001b[0m\u001b[1;33m,\u001b[0m \u001b[0my\u001b[0m\u001b[1;33m=\u001b[0m\u001b[1;34m'A.1_Expected Number of Deaths'\u001b[0m\u001b[1;33m)\u001b[0m\u001b[1;33m\u001b[0m\u001b[0m\n",
      "\u001b[1;31mTypeError\u001b[0m: unhashable type: 'slice'"
     ]
    }
   ],
   "source": [
    "A = outcomes3[0:100]\n",
    "B = outcomes3[100:200]\n",
    "data = pd.DataFrame(A)\n",
    "data['policy'] = experiments3['policy'][0:100]\n",
    "sns.violinplot(data=data, y='A.1_Expected Number of Deaths')\n",
    "plt.show()"
   ]
  },
  {
   "cell_type": "code",
   "execution_count": 24,
   "metadata": {},
   "outputs": [],
   "source": [
    "zero_policy = [Policy('zero policy', **{'0_RfR 0':0,\n",
    "                                      '0_RfR 1':0,\n",
    "                                      '0_RfR 2':0,\n",
    "                                      '1_RfR 0':0,\n",
    "                                      '1_RfR 1':0,\n",
    "                                      '1_RfR 2':0,\n",
    "                                      '2_RfR 0':0,\n",
    "                                      '2_RfR 1':0,\n",
    "                                      '2_RfR 2':0, \n",
    "                                      '3_RfR 0':0, \n",
    "                                      '3_RfR 1':0, \n",
    "                                      '3_RfR 2':0, \n",
    "                                      '4_RfR 0':0,\n",
    "                                      '4_RfR 1':0, \n",
    "                                      '4_RfR 2':0, \n",
    "                                      'EWS_DaysToThreat':0,\n",
    "                                      'A.1_DikeIncrease 0':0, \n",
    "                                      'A.1_DikeIncrease 1':0, \n",
    "                                      'A.1_DikeIncrease 2':0,\n",
    "                                      'A.2_DikeIncrease 0':0,\n",
    "                                      'A.2_DikeIncrease 1':0,\n",
    "                                      'A.2_DikeIncrease 2':0,\n",
    "                                      'A.3_DikeIncrease 0':0,\n",
    "                                      'A.3_DikeIncrease 1':0,\n",
    "                                      'A.3_DikeIncrease 2':0,\n",
    "                                      'A.4_DikeIncrease 0':0,\n",
    "                                      'A.4_DikeIncrease 1':0,\n",
    "                                      'A.4_DikeIncrease 2':0,\n",
    "                                      'A.5_DikeIncrease 0':0,\n",
    "                                      'A.5_DikeIncrease 1':0,\n",
    "                                      'A.5_DikeIncrease 2':0})]"
   ]
  },
  {
   "cell_type": "code",
   "execution_count": 25,
   "metadata": {},
   "outputs": [
    {
     "name": "stderr",
     "output_type": "stream",
     "text": [
      "[MainProcess/INFO] pool started\n",
      "[MainProcess/INFO] performing 100 scenarios * 1 policies * 1 model(s) = 100 experiments\n",
      "[MainProcess/INFO] 10 cases completed\n",
      "[MainProcess/INFO] 20 cases completed\n",
      "[MainProcess/INFO] 30 cases completed\n",
      "[MainProcess/INFO] 40 cases completed\n",
      "[MainProcess/INFO] 50 cases completed\n",
      "[MainProcess/INFO] 60 cases completed\n",
      "[MainProcess/INFO] 70 cases completed\n",
      "[MainProcess/INFO] 80 cases completed\n",
      "[MainProcess/INFO] 90 cases completed\n",
      "[MainProcess/INFO] 100 cases completed\n",
      "[MainProcess/INFO] experiments finished\n",
      "[MainProcess/INFO] terminating pool\n"
     ]
    }
   ],
   "source": [
    "tic3=timeit.default_timer()\n",
    "with MultiprocessingEvaluator(dike_model) as evaluator:\n",
    "    results3 = evaluator.perform_experiments(scenarios=100, policies=zero_policy)\n",
    "toc3=timeit.default_timer()"
   ]
  },
  {
   "cell_type": "code",
   "execution_count": 27,
   "metadata": {},
   "outputs": [
    {
     "data": {
      "text/plain": [
       "{'A.1_Expected Number of Deaths': array([1.83130456, 0.03926707, 1.83620703, 0.06569982, 1.81924864,\n",
       "        1.8304088 , 0.        , 1.82223816, 0.        , 0.14291648,\n",
       "        0.0111611 , 0.24965166, 0.        , 0.34780986, 1.79550898,\n",
       "        1.76219448, 1.53513109, 0.        , 0.06328201, 1.78595412,\n",
       "        1.80333651, 1.84111422, 1.7939159 , 0.        , 0.        ,\n",
       "        0.9056438 , 1.79411595, 1.05197663, 1.78130254, 0.24349151,\n",
       "        1.83759878, 0.        , 1.83217613, 0.        , 0.0397759 ,\n",
       "        1.78930221, 0.02559687, 0.        , 0.06603817, 0.01138374,\n",
       "        0.71977032, 0.        , 0.01098292, 0.        , 0.12738482,\n",
       "        0.01135952, 0.        , 0.06353477, 1.0604415 , 1.80732135,\n",
       "        0.        , 0.        , 1.36353327, 1.79268724, 0.        ,\n",
       "        0.        , 0.        , 0.        , 0.        , 1.81311869,\n",
       "        0.04027838, 0.01093388, 1.7897839 , 0.        , 1.82949236,\n",
       "        0.        , 1.8304088 , 0.08780139, 0.        , 1.8152667 ,\n",
       "        0.        , 0.54148628, 0.11157045, 0.39717156, 0.05382815,\n",
       "        1.81200106, 1.81283235, 1.78579188, 0.        , 0.        ,\n",
       "        0.24702359, 0.02536219, 0.        , 0.        , 1.82521748,\n",
       "        0.1206818 , 1.80902583, 1.80483785, 0.58663715, 1.80481108,\n",
       "        1.83400215, 0.10654927, 0.        , 0.        , 0.06366834,\n",
       "        1.81655901, 0.01108673, 0.24308465, 1.79156968, 1.81388318]),\n",
       " 'A.2_Expected Number of Deaths': array([0.        , 0.        , 0.        , 0.01598366, 0.00953335,\n",
       "        0.        , 0.11145731, 0.09402044, 0.03694884, 0.        ,\n",
       "        0.02201575, 0.        , 0.02719811, 0.80667291, 0.16174684,\n",
       "        0.        , 0.        , 0.00431946, 0.0203961 , 0.        ,\n",
       "        0.21838561, 0.0360141 , 0.        , 0.69303271, 0.01605889,\n",
       "        0.        , 0.        , 0.13443716, 0.        , 0.        ,\n",
       "        0.        , 0.10979518, 0.00287535, 0.80312999, 0.69804532,\n",
       "        0.        , 0.00433841, 0.01560796, 0.05479098, 0.05535355,\n",
       "        0.00383062, 0.02699971, 0.11074512, 0.11089402, 0.04421633,\n",
       "        0.82544668, 0.11128903, 0.04613889, 0.17334386, 0.        ,\n",
       "        0.24881473, 0.        , 0.21229473, 0.10413076, 0.11205032,\n",
       "        0.11041489, 0.21019537, 0.01630832, 0.01599655, 0.        ,\n",
       "        0.82972345, 0.11063105, 0.        , 0.02718579, 0.        ,\n",
       "        0.05380669, 0.        , 0.8022174 , 0.01022422, 0.        ,\n",
       "        0.00433773, 0.00379716, 0.        , 0.        , 0.        ,\n",
       "        0.29291079, 0.        , 0.01393027, 0.02737563, 0.15885959,\n",
       "        0.        , 0.00439265, 0.15364091, 0.01578061, 0.        ,\n",
       "        0.        , 0.        , 0.        , 0.        , 0.02331156,\n",
       "        0.        , 0.2399073 , 0.24844313, 0.04722219, 0.06126906,\n",
       "        0.09218971, 0.00439626, 0.53319844, 0.06659668, 0.75011142]),\n",
       " 'A.3_Expected Number of Deaths': array([0.14616777, 0.59145942, 0.02836758, 0.09838308, 0.        ,\n",
       "        0.        , 3.34308347, 0.        , 3.28914979, 2.14895138,\n",
       "        0.1145198 , 0.        , 0.01542791, 0.        , 0.        ,\n",
       "        0.        , 0.        , 0.41061183, 0.11224273, 0.        ,\n",
       "        0.        , 0.57668654, 0.06046783, 0.        , 0.11485972,\n",
       "        0.        , 0.40726818, 0.25157394, 0.01270181, 3.15621551,\n",
       "        0.        , 3.30738243, 0.        , 3.01360734, 3.1033954 ,\n",
       "        0.        , 3.24542095, 0.03577547, 0.41160196, 2.20538635,\n",
       "        0.        , 0.        , 3.308063  , 3.30115531, 0.93715984,\n",
       "        0.        , 0.        , 3.32064032, 0.        , 0.        ,\n",
       "        1.87327401, 0.05713801, 0.        , 0.        , 0.        ,\n",
       "        0.        , 3.34896609, 0.94983248, 0.07922815, 0.        ,\n",
       "        0.        , 0.02075391, 0.37471577, 3.36693507, 0.        ,\n",
       "        3.25672249, 0.        , 0.30863132, 0.09876154, 0.        ,\n",
       "        0.13593603, 0.        , 0.68438901, 0.        , 0.11519638,\n",
       "        0.10188429, 0.        , 0.        , 3.38821869, 0.        ,\n",
       "        0.        , 0.13735522, 0.        , 0.        , 0.11561787,\n",
       "        0.        , 0.        , 0.        , 0.        , 0.        ,\n",
       "        0.        , 0.        , 0.10990967, 0.78993376, 0.        ,\n",
       "        3.03749545, 2.82537518, 0.        , 3.14902089, 0.        ]),\n",
       " 'A.4_Expected Number of Deaths': array([0.        , 0.        , 0.00414351, 0.        , 0.        ,\n",
       "        0.        , 0.        , 0.01569678, 0.00042273, 0.        ,\n",
       "        0.00735617, 0.        , 0.        , 0.00966412, 0.        ,\n",
       "        0.        , 0.        , 0.        , 0.05844463, 0.        ,\n",
       "        0.        , 0.00839486, 0.        , 0.        , 0.01446545,\n",
       "        0.06125386, 0.00387361, 0.        , 0.        , 0.        ,\n",
       "        0.02573796, 0.        , 0.        , 0.        , 0.        ,\n",
       "        0.00102584, 0.        , 0.01926523, 0.02094364, 0.        ,\n",
       "        0.        , 0.00535802, 0.        , 0.        , 0.02718675,\n",
       "        0.        , 0.06287531, 0.        , 0.        , 0.        ,\n",
       "        0.        , 0.05912284, 0.        , 0.00063326, 0.05714903,\n",
       "        0.01842178, 0.        , 0.00998808, 0.03836688, 0.        ,\n",
       "        0.        , 0.05300984, 0.        , 0.        , 0.        ,\n",
       "        0.        , 0.        , 0.        , 0.0147507 , 0.        ,\n",
       "        0.        , 0.        , 0.01196609, 0.        , 0.00979559,\n",
       "        0.        , 0.        , 0.        , 0.        , 0.03723547,\n",
       "        0.00562004, 0.0067557 , 0.01905288, 0.00459559, 0.        ,\n",
       "        0.04554731, 0.        , 0.        , 0.        , 0.        ,\n",
       "        0.        , 0.01254971, 0.        , 0.0351219 , 0.03651941,\n",
       "        0.        , 0.        , 0.        , 0.00041038, 0.        ]),\n",
       " 'A.5_Expected Number of Deaths': array([0.        , 0.        , 0.        , 0.20368988, 0.        ,\n",
       "        0.        , 0.        , 0.        , 0.        , 0.        ,\n",
       "        0.3004889 , 0.27201147, 0.04279938, 0.        , 0.00624671,\n",
       "        0.        , 0.        , 0.43088461, 0.        , 0.        ,\n",
       "        0.        , 0.        , 0.        , 0.        , 0.48085781,\n",
       "        0.        , 0.        , 0.        , 0.        , 0.        ,\n",
       "        0.        , 0.        , 0.        , 0.        , 0.        ,\n",
       "        0.01008804, 0.        , 0.        , 0.00795661, 0.        ,\n",
       "        0.        , 0.        , 0.        , 0.        , 0.        ,\n",
       "        0.        , 0.        , 0.        , 0.        , 0.        ,\n",
       "        0.        , 0.        , 0.        , 0.43392037, 0.        ,\n",
       "        0.        , 0.        , 0.42707369, 0.88470118, 0.        ,\n",
       "        0.        , 0.76752273, 0.0106616 , 0.        , 0.        ,\n",
       "        0.        , 0.0559341 , 0.        , 0.05968033, 0.        ,\n",
       "        0.06512663, 0.70438034, 0.        , 0.        , 0.5061253 ,\n",
       "        0.        , 0.        , 0.        , 0.        , 0.        ,\n",
       "        0.69270802, 0.        , 0.06900619, 0.17895381, 0.        ,\n",
       "        0.        , 0.        , 0.        , 0.00777866, 0.        ,\n",
       "        0.        , 0.        , 0.19261066, 0.24681832, 0.        ,\n",
       "        0.        , 0.        , 0.        , 0.        , 0.        ]),\n",
       " 'Expected Annual Damage': array([3.25662931e+09, 3.08626941e+08, 2.37843782e+09, 3.45646149e+08,\n",
       "        2.62947687e+09, 2.76854502e+09, 2.46027550e+09, 2.90513241e+09,\n",
       "        1.83273546e+09, 1.46004728e+09, 4.25613892e+08, 8.92301310e+08,\n",
       "        8.43513151e+07, 1.25066128e+09, 2.12159242e+09, 2.57583953e+09,\n",
       "        1.95977778e+09, 7.00707957e+08, 3.22879215e+08, 2.77120752e+09,\n",
       "        2.83662899e+09, 3.55539655e+09, 2.48679685e+09, 8.55930279e+08,\n",
       "        5.18783917e+08, 1.70324511e+09, 2.52290971e+09, 1.67338152e+09,\n",
       "        2.90795607e+09, 1.62104784e+09, 1.92401193e+09, 1.76499860e+09,\n",
       "        3.25427330e+09, 2.98805267e+09, 2.51876839e+09, 2.92561632e+09,\n",
       "        2.62535979e+09, 7.29025317e+07, 3.89564961e+08, 1.30787549e+09,\n",
       "        1.24555017e+09, 3.70264218e+07, 1.89000459e+09, 2.12368137e+09,\n",
       "        7.39281463e+08, 7.77794887e+08, 2.45220436e+08, 1.53339757e+09,\n",
       "        1.89252101e+09, 2.74075263e+09, 1.24798115e+09, 1.61681039e+08,\n",
       "        2.16948901e+09, 3.00405928e+09, 2.66816306e+08, 1.15386467e+08,\n",
       "        2.36439758e+09, 8.99729605e+08, 1.01427168e+09, 2.61128721e+09,\n",
       "        1.05717584e+09, 1.20239046e+09, 2.80146469e+09, 1.81484125e+09,\n",
       "        2.76744120e+09, 1.59723901e+09, 2.83411129e+09, 1.19327620e+09,\n",
       "        1.79815449e+08, 2.61374667e+09, 1.27454791e+08, 1.28308874e+09,\n",
       "        5.69794665e+08, 5.49629676e+08, 8.26365097e+08, 3.52843706e+09,\n",
       "        2.80424045e+09, 2.59451382e+09, 2.51575357e+09, 2.58226647e+08,\n",
       "        1.05212533e+09, 1.36966141e+08, 2.73199747e+08, 2.27794407e+08,\n",
       "        2.39844243e+09, 2.91769200e+08, 2.79957933e+09, 2.84165165e+09,\n",
       "        9.35123727e+08, 2.87129510e+09, 2.63519387e+09, 4.75842235e+08,\n",
       "        4.98050255e+08, 9.58479568e+08, 2.23653595e+08, 4.56309793e+09,\n",
       "        1.50261657e+09, 9.15589568e+08, 4.54580408e+09, 3.90549255e+09]),\n",
       " 'Dike Investment Costs': array([0, 0, 0, 0, 0, 0, 0, 0, 0, 0, 0, 0, 0, 0, 0, 0, 0, 0, 0, 0, 0, 0,\n",
       "        0, 0, 0, 0, 0, 0, 0, 0, 0, 0, 0, 0, 0, 0, 0, 0, 0, 0, 0, 0, 0, 0,\n",
       "        0, 0, 0, 0, 0, 0, 0, 0, 0, 0, 0, 0, 0, 0, 0, 0, 0, 0, 0, 0, 0, 0,\n",
       "        0, 0, 0, 0, 0, 0, 0, 0, 0, 0, 0, 0, 0, 0, 0, 0, 0, 0, 0, 0, 0, 0,\n",
       "        0, 0, 0, 0, 0, 0, 0, 0, 0, 0, 0, 0]),\n",
       " 'RfR Investment Costs': array([0., 0., 0., 0., 0., 0., 0., 0., 0., 0., 0., 0., 0., 0., 0., 0., 0.,\n",
       "        0., 0., 0., 0., 0., 0., 0., 0., 0., 0., 0., 0., 0., 0., 0., 0., 0.,\n",
       "        0., 0., 0., 0., 0., 0., 0., 0., 0., 0., 0., 0., 0., 0., 0., 0., 0.,\n",
       "        0., 0., 0., 0., 0., 0., 0., 0., 0., 0., 0., 0., 0., 0., 0., 0., 0.,\n",
       "        0., 0., 0., 0., 0., 0., 0., 0., 0., 0., 0., 0., 0., 0., 0., 0., 0.,\n",
       "        0., 0., 0., 0., 0., 0., 0., 0., 0., 0., 0., 0., 0., 0., 0.]),\n",
       " 'Evacuation Costs': array([0., 0., 0., 0., 0., 0., 0., 0., 0., 0., 0., 0., 0., 0., 0., 0., 0.,\n",
       "        0., 0., 0., 0., 0., 0., 0., 0., 0., 0., 0., 0., 0., 0., 0., 0., 0.,\n",
       "        0., 0., 0., 0., 0., 0., 0., 0., 0., 0., 0., 0., 0., 0., 0., 0., 0.,\n",
       "        0., 0., 0., 0., 0., 0., 0., 0., 0., 0., 0., 0., 0., 0., 0., 0., 0.,\n",
       "        0., 0., 0., 0., 0., 0., 0., 0., 0., 0., 0., 0., 0., 0., 0., 0., 0.,\n",
       "        0., 0., 0., 0., 0., 0., 0., 0., 0., 0., 0., 0., 0., 0., 0.])}"
      ]
     },
     "execution_count": 27,
     "metadata": {},
     "output_type": "execute_result"
    }
   ],
   "source": [
    "experiments3, outcomes3 = results3\n",
    "outcomes3"
   ]
  },
  {
   "cell_type": "code",
   "execution_count": 26,
   "metadata": {},
   "outputs": [
    {
     "name": "stdout",
     "output_type": "stream",
     "text": [
      "Multiprocessing time in seconds: 115.56703170000014\n"
     ]
    }
   ],
   "source": [
    "print('Multiprocessing time in seconds:', toc3-tic3)"
   ]
  },
  {
   "cell_type": "code",
   "execution_count": 31,
   "metadata": {},
   "outputs": [
    {
     "name": "stderr",
     "output_type": "stream",
     "text": [
      "C:\\Programs\\Anaconda3\\lib\\site-packages\\scipy\\stats\\stats.py:1713: FutureWarning: Using a non-tuple sequence for multidimensional indexing is deprecated; use `arr[tuple(seq)]` instead of `arr[seq]`. In the future this will be interpreted as an array index, `arr[np.array(seq)]`, which will result either in an error or a different result.\n",
      "  return np.add.reduce(sorted[indexer] * weights, axis=axis) / sumval\n"
     ]
    },
    {
     "data": {
      "image/png": "[encoded data removed]",
      "text/plain": [
       "<Figure size 432x288 with 1 Axes>"
      ]
     },
     "metadata": {},
     "output_type": "display_data"
    }
   ],
   "source": [
    "data = pd.DataFrame(outcomes3)\n",
    "data['policy'] = experiments3['policy']\n",
    "sns.violinplot(data=data, y='A.2_Expected Number of Deaths')\n",
    "plt.show()"
   ]
  },
  {
   "cell_type": "code",
   "execution_count": null,
   "metadata": {},
   "outputs": [],
   "source": [
    "fig, axes = plt.subplots(ncols=5, nrows=1, figsize=(10,10), \n",
    "                         sharey=False, sharex=False)\n",
    "\n"
   ]
  }
 ],
 "metadata": {
  "kernelspec": {
   "display_name": "Python 3",
   "language": "python",
   "name": "python3"
  },
  "language_info": {
   "codemirror_mode": {
    "name": "ipython",
    "version": 3
   },
   "file_extension": ".py",
   "mimetype": "text/x-python",
   "name": "python",
   "nbconvert_exporter": "python",
   "pygments_lexer": "ipython3",
   "version": "3.6.6"
  },
  "latex_envs": {
   "LaTeX_envs_menu_present": true,
   "autoclose": false,
   "autocomplete": true,
   "bibliofile": "biblio.bib",
   "cite_by": "apalike",
   "current_citInitial": 1,
   "eqLabelWithNumbers": true,
   "eqNumInitial": 1,
   "hotkeys": {
    "equation": "Ctrl-E",
    "itemize": "Ctrl-I"
   },
   "labels_anchors": false,
   "latex_user_defs": false,
   "report_style_numbering": false,
   "user_envs_cfg": false
  }
 },
 "nbformat": 4,
 "nbformat_minor": 2
}
