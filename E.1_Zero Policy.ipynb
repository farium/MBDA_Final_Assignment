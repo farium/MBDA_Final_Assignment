{
 "cells": [
  {
   "cell_type": "markdown",
   "metadata": {},
   "source": [
    "This notebook will run the model without interventions to create a set of 'base case' scenarios, to be used for background and initial analysis. The problem formulation 6 was used, which has 9 outcomes as defined in the report by Group 22 and which can be found in problem_formulation.py"
   ]
  },
  {
   "cell_type": "code",
   "execution_count": 1,
   "metadata": {},
   "outputs": [
    {
     "data": {
      "text/plain": [
       "<Logger EMA (DEBUG)>"
      ]
     },
     "execution_count": 1,
     "metadata": {},
     "output_type": "execute_result"
    }
   ],
   "source": [
    "#In this cell all libraries used in the notebook are loaded\n",
    "import numpy as np\n",
    "import scipy as sp\n",
    "import pandas as pd\n",
    "import matplotlib.pyplot as plt\n",
    "import seaborn as sns\n",
    "import networkx as nx\n",
    "import timeit\n",
    "\n",
    "from ema_workbench import (Model, CategoricalParameter, SequentialEvaluator, MultiprocessingEvaluator, Policy, Scenario, perform_experiments,\n",
    "                           ScalarOutcome, IntegerParameter, RealParameter)\n",
    "from ema_workbench.em_framework.evaluators import perform_experiments\n",
    "from ema_workbench.em_framework.samplers import sample_uncertainties\n",
    "from ema_workbench.util import ema_logging\n",
    "from problem_formulation import get_model_for_problem_formulation\n",
    "import copy\n",
    "\n",
    "ema_logging.log_to_stderr(ema_logging.INFO)"
   ]
  },
  {
   "cell_type": "code",
   "execution_count": 2,
   "metadata": {},
   "outputs": [],
   "source": [
    "#Here the problem formulation created by group 22 is called as the dike model, and uncertainties and levers are connected to the Workbench\n",
    "dike_model, planning_steps = get_model_for_problem_formulation(6)\n",
    "uncertainties = dike_model.uncertainties\n",
    "\n",
    "uncertainties = copy.deepcopy(dike_model.uncertainties)\n",
    "levers = dike_model.levers\n",
    "levers = copy.deepcopy(dike_model.levers)"
   ]
  },
  {
   "cell_type": "code",
   "execution_count": 3,
   "metadata": {},
   "outputs": [],
   "source": [
    "#This creates a policy where all interventions are set to 0, to create a base case\n",
    "zero_policy = [Policy('zero policy', **{'0_RfR 0':0,\n",
    "                                      '0_RfR 1':0,\n",
    "                                      '0_RfR 2':0,\n",
    "                                      '1_RfR 0':0,\n",
    "                                      '1_RfR 1':0,\n",
    "                                      '1_RfR 2':0,\n",
    "                                      '2_RfR 0':0,\n",
    "                                      '2_RfR 1':0,\n",
    "                                      '2_RfR 2':0, \n",
    "                                      '3_RfR 0':0, \n",
    "                                      '3_RfR 1':0, \n",
    "                                      '3_RfR 2':0, \n",
    "                                      '4_RfR 0':0,\n",
    "                                      '4_RfR 1':0, \n",
    "                                      '4_RfR 2':0, \n",
    "                                      'EWS_DaysToThreat':0,\n",
    "                                      'A.1_DikeIncrease 0':0, \n",
    "                                      'A.1_DikeIncrease 1':0, \n",
    "                                      'A.1_DikeIncrease 2':0,\n",
    "                                      'A.2_DikeIncrease 0':0,\n",
    "                                      'A.2_DikeIncrease 1':0,\n",
    "                                      'A.2_DikeIncrease 2':0,\n",
    "                                      'A.3_DikeIncrease 0':0,\n",
    "                                      'A.3_DikeIncrease 1':0,\n",
    "                                      'A.3_DikeIncrease 2':0,\n",
    "                                      'A.4_DikeIncrease 0':0,\n",
    "                                      'A.4_DikeIncrease 1':0,\n",
    "                                      'A.4_DikeIncrease 2':0,\n",
    "                                      'A.5_DikeIncrease 0':0,\n",
    "                                      'A.5_DikeIncrease 1':0,\n",
    "                                      'A.5_DikeIncrease 2':0})]"
   ]
  },
  {
   "cell_type": "code",
   "execution_count": 4,
   "metadata": {},
   "outputs": [
    {
     "name": "stderr",
     "output_type": "stream",
     "text": [
      "[MainProcess/INFO] pool started\n",
      "[MainProcess/INFO] performing 1000 scenarios * 1 policies * 1 model(s) = 1000 experiments\n",
      "[MainProcess/INFO] 50 cases completed\n",
      "[MainProcess/INFO] 100 cases completed\n",
      "[MainProcess/INFO] 150 cases completed\n",
      "[MainProcess/INFO] 200 cases completed\n",
      "[MainProcess/INFO] 250 cases completed\n",
      "[MainProcess/INFO] 300 cases completed\n",
      "[MainProcess/INFO] 350 cases completed\n",
      "[MainProcess/INFO] 400 cases completed\n",
      "[MainProcess/INFO] 450 cases completed\n",
      "[MainProcess/INFO] 500 cases completed\n",
      "[MainProcess/INFO] 550 cases completed\n",
      "[MainProcess/INFO] 600 cases completed\n",
      "[MainProcess/INFO] 650 cases completed\n",
      "[MainProcess/INFO] 700 cases completed\n",
      "[MainProcess/INFO] 750 cases completed\n",
      "[MainProcess/INFO] 800 cases completed\n",
      "[MainProcess/INFO] 850 cases completed\n",
      "[MainProcess/INFO] 900 cases completed\n",
      "[MainProcess/INFO] 950 cases completed\n",
      "[MainProcess/INFO] 1000 cases completed\n",
      "[MainProcess/INFO] experiments finished\n",
      "[MainProcess/INFO] terminating pool\n"
     ]
    }
   ],
   "source": [
    "#The first time running the model with the zero policy, for 1000 scenarios, with timeit to get an indication of runtimes to be expected\n",
    "tic=timeit.default_timer()\n",
    "with MultiprocessingEvaluator(dike_model) as evaluator:\n",
    "    results = evaluator.perform_experiments(scenarios=1000, policies=zero_policy, reporting_interval=50)\n",
    "toc=timeit.default_timer()"
   ]
  },
  {
   "cell_type": "code",
   "execution_count": 5,
   "metadata": {},
   "outputs": [],
   "source": [
    "experiments, outcomes = results"
   ]
  },
  {
   "cell_type": "code",
   "execution_count": 6,
   "metadata": {},
   "outputs": [
    {
     "name": "stdout",
     "output_type": "stream",
     "text": [
      "Multiprocessing time in seconds: 982.9345354999999\n"
     ]
    }
   ],
   "source": [
    "print('Multiprocessing time in seconds:', toc-tic)"
   ]
  },
  {
   "cell_type": "code",
   "execution_count": 16,
   "metadata": {},
   "outputs": [
    {
     "name": "stderr",
     "output_type": "stream",
     "text": [
      "[MainProcess/INFO] results saved successfully to C:\\Users\\wsgru\\Documents\\Studie\\Industrial Ecology\\IE Year 1\\Q4\\Model-based Decision-making\\epa1361_open-master2\\epa1361_open-master\\final assignment\\results_exploration.tar.gz\n"
     ]
    }
   ],
   "source": [
    "from ema_workbench import save_results\n",
    "\n",
    "save_results(results, 'results_exploration.tar.gz')"
   ]
  },
  {
   "cell_type": "code",
   "execution_count": 17,
   "metadata": {
    "scrolled": true
   },
   "outputs": [
    {
     "name": "stderr",
     "output_type": "stream",
     "text": [
      "[MainProcess/INFO] pool started\n",
      "[MainProcess/INFO] performing 10000 scenarios * 1 policies * 1 model(s) = 10000 experiments\n",
      "[MainProcess/INFO] 50 cases completed\n",
      "[MainProcess/INFO] 100 cases completed\n",
      "[MainProcess/INFO] 150 cases completed\n",
      "[MainProcess/INFO] 200 cases completed\n",
      "[MainProcess/INFO] 250 cases completed\n",
      "[MainProcess/INFO] 300 cases completed\n",
      "[MainProcess/INFO] 350 cases completed\n",
      "[MainProcess/INFO] 400 cases completed\n",
      "[MainProcess/INFO] 450 cases completed\n",
      "[MainProcess/INFO] 500 cases completed\n",
      "[MainProcess/INFO] 550 cases completed\n",
      "[MainProcess/INFO] 600 cases completed\n",
      "[MainProcess/INFO] 650 cases completed\n",
      "[MainProcess/INFO] 700 cases completed\n",
      "[MainProcess/INFO] 750 cases completed\n",
      "[MainProcess/INFO] 800 cases completed\n",
      "[MainProcess/INFO] 850 cases completed\n",
      "[MainProcess/INFO] 900 cases completed\n",
      "[MainProcess/INFO] 950 cases completed\n",
      "[MainProcess/INFO] 1000 cases completed\n",
      "[MainProcess/INFO] 1050 cases completed\n",
      "[MainProcess/INFO] 1100 cases completed\n",
      "[MainProcess/INFO] 1150 cases completed\n",
      "[MainProcess/INFO] 1200 cases completed\n",
      "[MainProcess/INFO] 1250 cases completed\n",
      "[MainProcess/INFO] 1300 cases completed\n",
      "[MainProcess/INFO] 1350 cases completed\n",
      "[MainProcess/INFO] 1400 cases completed\n",
      "[MainProcess/INFO] 1450 cases completed\n",
      "[MainProcess/INFO] 1500 cases completed\n",
      "[MainProcess/INFO] 1550 cases completed\n",
      "[MainProcess/INFO] 1600 cases completed\n",
      "[MainProcess/INFO] 1650 cases completed\n",
      "[MainProcess/INFO] 1700 cases completed\n",
      "[MainProcess/INFO] 1750 cases completed\n",
      "[MainProcess/INFO] 1800 cases completed\n",
      "[MainProcess/INFO] 1850 cases completed\n",
      "[MainProcess/INFO] 1900 cases completed\n",
      "[MainProcess/INFO] 1950 cases completed\n",
      "[MainProcess/INFO] 2000 cases completed\n",
      "[MainProcess/INFO] 2050 cases completed\n",
      "[MainProcess/INFO] 2100 cases completed\n",
      "[MainProcess/INFO] 2150 cases completed\n",
      "[MainProcess/INFO] 2200 cases completed\n",
      "[MainProcess/INFO] 2250 cases completed\n",
      "[MainProcess/INFO] 2300 cases completed\n",
      "[MainProcess/INFO] 2350 cases completed\n",
      "[MainProcess/INFO] 2400 cases completed\n",
      "[MainProcess/INFO] 2450 cases completed\n",
      "[MainProcess/INFO] 2500 cases completed\n",
      "[MainProcess/INFO] 2550 cases completed\n",
      "[MainProcess/INFO] 2600 cases completed\n",
      "[MainProcess/INFO] 2650 cases completed\n",
      "[MainProcess/INFO] 2700 cases completed\n",
      "[MainProcess/INFO] 2750 cases completed\n",
      "[MainProcess/INFO] 2800 cases completed\n",
      "[MainProcess/INFO] 2850 cases completed\n",
      "[MainProcess/INFO] 2900 cases completed\n",
      "[MainProcess/INFO] 2950 cases completed\n",
      "[MainProcess/INFO] 3000 cases completed\n",
      "[MainProcess/INFO] 3050 cases completed\n",
      "[MainProcess/INFO] 3100 cases completed\n",
      "[MainProcess/INFO] 3150 cases completed\n",
      "[MainProcess/INFO] 3200 cases completed\n",
      "[MainProcess/INFO] 3250 cases completed\n",
      "[MainProcess/INFO] 3300 cases completed\n",
      "[MainProcess/INFO] 3350 cases completed\n",
      "[MainProcess/INFO] 3400 cases completed\n",
      "[MainProcess/INFO] 3450 cases completed\n",
      "[MainProcess/INFO] 3500 cases completed\n",
      "[MainProcess/INFO] 3550 cases completed\n",
      "[MainProcess/INFO] 3600 cases completed\n",
      "[MainProcess/INFO] 3650 cases completed\n",
      "[MainProcess/INFO] 3700 cases completed\n",
      "[MainProcess/INFO] 3750 cases completed\n",
      "[MainProcess/INFO] 3800 cases completed\n",
      "[MainProcess/INFO] 3850 cases completed\n",
      "[MainProcess/INFO] 3900 cases completed\n",
      "[MainProcess/INFO] 3950 cases completed\n",
      "[MainProcess/INFO] 4000 cases completed\n",
      "[MainProcess/INFO] 4050 cases completed\n",
      "[MainProcess/INFO] 4100 cases completed\n",
      "[MainProcess/INFO] 4150 cases completed\n",
      "[MainProcess/INFO] 4200 cases completed\n",
      "[MainProcess/INFO] 4250 cases completed\n",
      "[MainProcess/INFO] 4300 cases completed\n",
      "[MainProcess/INFO] 4350 cases completed\n",
      "[MainProcess/INFO] 4400 cases completed\n",
      "[MainProcess/INFO] 4450 cases completed\n",
      "[MainProcess/INFO] 4500 cases completed\n",
      "[MainProcess/INFO] 4550 cases completed\n",
      "[MainProcess/INFO] 4600 cases completed\n",
      "[MainProcess/INFO] 4650 cases completed\n",
      "[MainProcess/INFO] 4700 cases completed\n",
      "[MainProcess/INFO] 4750 cases completed\n",
      "[MainProcess/INFO] 4800 cases completed\n",
      "[MainProcess/INFO] 4850 cases completed\n",
      "[MainProcess/INFO] 4900 cases completed\n",
      "[MainProcess/INFO] 4950 cases completed\n",
      "[MainProcess/INFO] 5000 cases completed\n",
      "[MainProcess/INFO] 5050 cases completed\n",
      "[MainProcess/INFO] 5100 cases completed\n",
      "[MainProcess/INFO] 5150 cases completed\n",
      "[MainProcess/INFO] 5200 cases completed\n",
      "[MainProcess/INFO] 5250 cases completed\n",
      "[MainProcess/INFO] 5300 cases completed\n",
      "[MainProcess/INFO] 5350 cases completed\n",
      "[MainProcess/INFO] 5400 cases completed\n",
      "[MainProcess/INFO] 5450 cases completed\n",
      "[MainProcess/INFO] 5500 cases completed\n",
      "[MainProcess/INFO] 5550 cases completed\n",
      "[MainProcess/INFO] 5600 cases completed\n",
      "[MainProcess/INFO] 5650 cases completed\n",
      "[MainProcess/INFO] 5700 cases completed\n",
      "[MainProcess/INFO] 5750 cases completed\n",
      "[MainProcess/INFO] 5800 cases completed\n",
      "[MainProcess/INFO] 5850 cases completed\n",
      "[MainProcess/INFO] 5900 cases completed\n",
      "[MainProcess/INFO] 5950 cases completed\n",
      "[MainProcess/INFO] 6000 cases completed\n",
      "[MainProcess/INFO] 6050 cases completed\n",
      "[MainProcess/INFO] 6100 cases completed\n",
      "[MainProcess/INFO] 6150 cases completed\n",
      "[MainProcess/INFO] 6200 cases completed\n",
      "[MainProcess/INFO] 6250 cases completed\n",
      "[MainProcess/INFO] 6300 cases completed\n",
      "[MainProcess/INFO] 6350 cases completed\n",
      "[MainProcess/INFO] 6400 cases completed\n",
      "[MainProcess/INFO] 6450 cases completed\n",
      "[MainProcess/INFO] 6500 cases completed\n",
      "[MainProcess/INFO] 6550 cases completed\n",
      "[MainProcess/INFO] 6600 cases completed\n",
      "[MainProcess/INFO] 6650 cases completed\n",
      "[MainProcess/INFO] 6700 cases completed\n",
      "[MainProcess/INFO] 6750 cases completed\n",
      "[MainProcess/INFO] 6800 cases completed\n",
      "[MainProcess/INFO] 6850 cases completed\n",
      "[MainProcess/INFO] 6900 cases completed\n",
      "[MainProcess/INFO] 6950 cases completed\n",
      "[MainProcess/INFO] 7000 cases completed\n",
      "[MainProcess/INFO] 7050 cases completed\n",
      "[MainProcess/INFO] 7100 cases completed\n",
      "[MainProcess/INFO] 7150 cases completed\n",
      "[MainProcess/INFO] 7200 cases completed\n",
      "[MainProcess/INFO] 7250 cases completed\n",
      "[MainProcess/INFO] 7300 cases completed\n",
      "[MainProcess/INFO] 7350 cases completed\n",
      "[MainProcess/INFO] 7400 cases completed\n",
      "[MainProcess/INFO] 7450 cases completed\n",
      "[MainProcess/INFO] 7500 cases completed\n",
      "[MainProcess/INFO] 7550 cases completed\n",
      "[MainProcess/INFO] 7600 cases completed\n",
      "[MainProcess/INFO] 7650 cases completed\n",
      "[MainProcess/INFO] 7700 cases completed\n",
      "[MainProcess/INFO] 7750 cases completed\n",
      "[MainProcess/INFO] 7800 cases completed\n",
      "[MainProcess/INFO] 7850 cases completed\n",
      "[MainProcess/INFO] 7900 cases completed\n",
      "[MainProcess/INFO] 7950 cases completed\n",
      "[MainProcess/INFO] 8000 cases completed\n",
      "[MainProcess/INFO] 8050 cases completed\n",
      "[MainProcess/INFO] 8100 cases completed\n",
      "[MainProcess/INFO] 8150 cases completed\n",
      "[MainProcess/INFO] 8200 cases completed\n",
      "[MainProcess/INFO] 8250 cases completed\n",
      "[MainProcess/INFO] 8300 cases completed\n",
      "[MainProcess/INFO] 8350 cases completed\n",
      "[MainProcess/INFO] 8400 cases completed\n",
      "[MainProcess/INFO] 8450 cases completed\n",
      "[MainProcess/INFO] 8500 cases completed\n",
      "[MainProcess/INFO] 8550 cases completed\n",
      "[MainProcess/INFO] 8600 cases completed\n",
      "[MainProcess/INFO] 8650 cases completed\n",
      "[MainProcess/INFO] 8700 cases completed\n",
      "[MainProcess/INFO] 8750 cases completed\n",
      "[MainProcess/INFO] 8800 cases completed\n",
      "[MainProcess/INFO] 8850 cases completed\n",
      "[MainProcess/INFO] 8900 cases completed\n",
      "[MainProcess/INFO] 8950 cases completed\n",
      "[MainProcess/INFO] 9000 cases completed\n",
      "[MainProcess/INFO] 9050 cases completed\n",
      "[MainProcess/INFO] 9100 cases completed\n",
      "[MainProcess/INFO] 9150 cases completed\n",
      "[MainProcess/INFO] 9200 cases completed\n",
      "[MainProcess/INFO] 9250 cases completed\n",
      "[MainProcess/INFO] 9300 cases completed\n",
      "[MainProcess/INFO] 9350 cases completed\n",
      "[MainProcess/INFO] 9400 cases completed\n",
      "[MainProcess/INFO] 9450 cases completed\n",
      "[MainProcess/INFO] 9500 cases completed\n",
      "[MainProcess/INFO] 9550 cases completed\n",
      "[MainProcess/INFO] 9600 cases completed\n",
      "[MainProcess/INFO] 9650 cases completed\n",
      "[MainProcess/INFO] 9700 cases completed\n",
      "[MainProcess/INFO] 9750 cases completed\n",
      "[MainProcess/INFO] 9800 cases completed\n",
      "[MainProcess/INFO] 9850 cases completed\n",
      "[MainProcess/INFO] 9900 cases completed\n",
      "[MainProcess/INFO] 9950 cases completed\n",
      "[MainProcess/INFO] 10000 cases completed\n",
      "[MainProcess/INFO] experiments finished\n",
      "[MainProcess/INFO] terminating pool\n"
     ]
    }
   ],
   "source": [
    "#The decision was made to run with more scenarios\n",
    "tic2=timeit.default_timer()\n",
    "with MultiprocessingEvaluator(dike_model) as evaluator:\n",
    "    results2 = evaluator.perform_experiments(scenarios=10000, policies=zero_policy, reporting_interval=50)\n",
    "toc2=timeit.default_timer()"
   ]
  },
  {
   "cell_type": "code",
   "execution_count": 18,
   "metadata": {},
   "outputs": [
    {
     "name": "stdout",
     "output_type": "stream",
     "text": [
      "Multiprocessing time in seconds: 8527.664254399999\n"
     ]
    }
   ],
   "source": [
    "print('Multiprocessing time in seconds:', toc2-tic2)"
   ]
  },
  {
   "cell_type": "code",
   "execution_count": 20,
   "metadata": {},
   "outputs": [
    {
     "name": "stderr",
     "output_type": "stream",
     "text": [
      "[MainProcess/INFO] results saved successfully to C:\\Users\\wsgru\\Documents\\Studie\\Industrial Ecology\\IE Year 1\\Q4\\Model-based Decision-making\\epa1361_open-master2\\epa1361_open-master\\final assignment\\full_results_exploration.tar.gz\n"
     ]
    }
   ],
   "source": [
    "#These results were saved to allow analysis in separate notebooks and prevent losing the results\n",
    "save_results(results2, 'full_results_exploration.tar.gz')"
   ]
  }
 ],
 "metadata": {
  "kernelspec": {
   "display_name": "Python 3",
   "language": "python",
   "name": "python3"
  },
  "language_info": {
   "codemirror_mode": {
    "name": "ipython",
    "version": 3
   },
   "file_extension": ".py",
   "mimetype": "text/x-python",
   "name": "python",
   "nbconvert_exporter": "python",
   "pygments_lexer": "ipython3",
   "version": "3.6.6"
  },
  "latex_envs": {
   "LaTeX_envs_menu_present": true,
   "autoclose": false,
   "autocomplete": true,
   "bibliofile": "biblio.bib",
   "cite_by": "apalike",
   "current_citInitial": 1,
   "eqLabelWithNumbers": true,
   "eqNumInitial": 1,
   "hotkeys": {
    "equation": "Ctrl-E",
    "itemize": "Ctrl-I"
   },
   "labels_anchors": false,
   "latex_user_defs": false,
   "report_style_numbering": false,
   "user_envs_cfg": false
  }
 },
 "nbformat": 4,
 "nbformat_minor": 2
}
